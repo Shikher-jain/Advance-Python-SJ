{
 "cells": [
  {
   "cell_type": "code",
   "execution_count": 10,
   "metadata": {},
   "outputs": [
    {
     "name": "stdout",
     "output_type": "stream",
     "text": [
      "Collecting gdal\n",
      "  Using cached gdal-3.10.2.tar.gz (838 kB)\n",
      "  Installing build dependencies: started\n",
      "  Installing build dependencies: still running...\n",
      "  Installing build dependencies: finished with status 'done'\n",
      "  Getting requirements to build wheel: started\n",
      "  Getting requirements to build wheel: finished with status 'done'\n",
      "  Preparing metadata (pyproject.toml): started\n",
      "  Preparing metadata (pyproject.toml): finished with status 'done'\n",
      "Building wheels for collected packages: gdal\n",
      "  Building wheel for gdal (pyproject.toml): started\n",
      "  Building wheel for gdal (pyproject.toml): still running...\n",
      "  Building wheel for gdal (pyproject.toml): finished with status 'error'\n",
      "Failed to build gdal\n"
     ]
    },
    {
     "name": "stderr",
     "output_type": "stream",
     "text": [
      "  error: subprocess-exited-with-error\n",
      "  \n",
      "  × Building wheel for gdal (pyproject.toml) did not run successfully.\n",
      "  │ exit code: 1\n",
      "  ╰─> [185 lines of output]\n",
      "      Using numpy 2.2.4\n",
      "      C:\\Users\\user\\AppData\\Local\\Temp\\pip-build-env-8m48lgkf\\overlay\\Lib\\site-packages\\setuptools\\config\\_apply_pyprojecttoml.py:82: SetuptoolsDeprecationWarning: `project.license` as a TOML table is deprecated\n",
      "      !!\n",
      "      \n",
      "              ********************************************************************************\n",
      "              Please use a simple string containing a SPDX expression for `project.license`. You can also use `project.license-files`.\n",
      "      \n",
      "              By 2026-Feb-18, you need to update your project and remove deprecated calls\n",
      "              or your builds will no longer be supported.\n",
      "      \n",
      "              See https://packaging.python.org/en/latest/guides/writing-pyproject-toml/#license for details.\n",
      "              ********************************************************************************\n",
      "      \n",
      "      !!\n",
      "        corresp(dist, value, root_dir)\n",
      "      C:\\Users\\user\\AppData\\Local\\Temp\\pip-build-env-8m48lgkf\\overlay\\Lib\\site-packages\\setuptools\\config\\_apply_pyprojecttoml.py:82: SetuptoolsWarning: `extras_require` overwritten in `pyproject.toml` (optional-dependencies)\n",
      "        corresp(dist, value, root_dir)\n",
      "      C:\\Users\\user\\AppData\\Local\\Temp\\pip-build-env-8m48lgkf\\overlay\\Lib\\site-packages\\setuptools\\config\\_apply_pyprojecttoml.py:61: SetuptoolsDeprecationWarning: License classifiers are deprecated.\n",
      "      !!\n",
      "      \n",
      "              ********************************************************************************\n",
      "              Please consider removing the following classifiers in favor of a SPDX license expression:\n",
      "      \n",
      "              License :: OSI Approved :: MIT License\n",
      "      \n",
      "              See https://packaging.python.org/en/latest/guides/writing-pyproject-toml/#license for details.\n",
      "              ********************************************************************************\n",
      "      \n",
      "      !!\n",
      "        dist._finalize_license_expression()\n",
      "      C:\\Users\\user\\AppData\\Local\\Temp\\pip-build-env-8m48lgkf\\overlay\\Lib\\site-packages\\setuptools\\dist.py:760: SetuptoolsDeprecationWarning: License classifiers are deprecated.\n",
      "      !!\n",
      "      \n",
      "              ********************************************************************************\n",
      "              Please consider removing the following classifiers in favor of a SPDX license expression:\n",
      "      \n",
      "              License :: OSI Approved :: MIT License\n",
      "      \n",
      "              See https://packaging.python.org/en/latest/guides/writing-pyproject-toml/#license for details.\n",
      "              ********************************************************************************\n",
      "      \n",
      "      !!\n",
      "        self._finalize_license_expression()\n",
      "      running bdist_wheel\n",
      "      running build\n",
      "      running build_py\n",
      "      creating build\\lib.win-amd64-cpython-313\\osgeo\n",
      "      copying osgeo\\gdal.py -> build\\lib.win-amd64-cpython-313\\osgeo\n",
      "      copying osgeo\\gdalconst.py -> build\\lib.win-amd64-cpython-313\\osgeo\n",
      "      copying osgeo\\gdalnumeric.py -> build\\lib.win-amd64-cpython-313\\osgeo\n",
      "      copying osgeo\\gdal_array.py -> build\\lib.win-amd64-cpython-313\\osgeo\n",
      "      copying osgeo\\gnm.py -> build\\lib.win-amd64-cpython-313\\osgeo\n",
      "      copying osgeo\\ogr.py -> build\\lib.win-amd64-cpython-313\\osgeo\n",
      "      copying osgeo\\osr.py -> build\\lib.win-amd64-cpython-313\\osgeo\n",
      "      copying osgeo\\__init__.py -> build\\lib.win-amd64-cpython-313\\osgeo\n",
      "      creating build\\lib.win-amd64-cpython-313\\osgeo_utils\n",
      "      copying gdal-utils\\osgeo_utils\\gdal2tiles.py -> build\\lib.win-amd64-cpython-313\\osgeo_utils\n",
      "      copying gdal-utils\\osgeo_utils\\gdal2xyz.py -> build\\lib.win-amd64-cpython-313\\osgeo_utils\n",
      "      copying gdal-utils\\osgeo_utils\\gdalattachpct.py -> build\\lib.win-amd64-cpython-313\\osgeo_utils\n",
      "      copying gdal-utils\\osgeo_utils\\gdalcompare.py -> build\\lib.win-amd64-cpython-313\\osgeo_utils\n",
      "      copying gdal-utils\\osgeo_utils\\gdalmove.py -> build\\lib.win-amd64-cpython-313\\osgeo_utils\n",
      "      copying gdal-utils\\osgeo_utils\\gdal_calc.py -> build\\lib.win-amd64-cpython-313\\osgeo_utils\n",
      "      copying gdal-utils\\osgeo_utils\\gdal_edit.py -> build\\lib.win-amd64-cpython-313\\osgeo_utils\n",
      "      copying gdal-utils\\osgeo_utils\\gdal_fillnodata.py -> build\\lib.win-amd64-cpython-313\\osgeo_utils\n",
      "      copying gdal-utils\\osgeo_utils\\gdal_merge.py -> build\\lib.win-amd64-cpython-313\\osgeo_utils\n",
      "      copying gdal-utils\\osgeo_utils\\gdal_pansharpen.py -> build\\lib.win-amd64-cpython-313\\osgeo_utils\n",
      "      copying gdal-utils\\osgeo_utils\\gdal_polygonize.py -> build\\lib.win-amd64-cpython-313\\osgeo_utils\n",
      "      copying gdal-utils\\osgeo_utils\\gdal_proximity.py -> build\\lib.win-amd64-cpython-313\\osgeo_utils\n",
      "      copying gdal-utils\\osgeo_utils\\gdal_retile.py -> build\\lib.win-amd64-cpython-313\\osgeo_utils\n",
      "      copying gdal-utils\\osgeo_utils\\gdal_sieve.py -> build\\lib.win-amd64-cpython-313\\osgeo_utils\n",
      "      copying gdal-utils\\osgeo_utils\\ogrmerge.py -> build\\lib.win-amd64-cpython-313\\osgeo_utils\n",
      "      copying gdal-utils\\osgeo_utils\\ogr_layer_algebra.py -> build\\lib.win-amd64-cpython-313\\osgeo_utils\n",
      "      copying gdal-utils\\osgeo_utils\\pct2rgb.py -> build\\lib.win-amd64-cpython-313\\osgeo_utils\n",
      "      copying gdal-utils\\osgeo_utils\\rgb2pct.py -> build\\lib.win-amd64-cpython-313\\osgeo_utils\n",
      "      copying gdal-utils\\osgeo_utils\\__init__.py -> build\\lib.win-amd64-cpython-313\\osgeo_utils\n",
      "      creating build\\lib.win-amd64-cpython-313\\osgeo_utils\\auxiliary\n",
      "      copying gdal-utils\\osgeo_utils\\auxiliary\\array_util.py -> build\\lib.win-amd64-cpython-313\\osgeo_utils\\auxiliary\n",
      "      copying gdal-utils\\osgeo_utils\\auxiliary\\base.py -> build\\lib.win-amd64-cpython-313\\osgeo_utils\\auxiliary\n",
      "      copying gdal-utils\\osgeo_utils\\auxiliary\\batch_creator.py -> build\\lib.win-amd64-cpython-313\\osgeo_utils\\auxiliary\n",
      "      copying gdal-utils\\osgeo_utils\\auxiliary\\color_palette.py -> build\\lib.win-amd64-cpython-313\\osgeo_utils\\auxiliary\n",
      "      copying gdal-utils\\osgeo_utils\\auxiliary\\color_table.py -> build\\lib.win-amd64-cpython-313\\osgeo_utils\\auxiliary\n",
      "      copying gdal-utils\\osgeo_utils\\auxiliary\\extent_util.py -> build\\lib.win-amd64-cpython-313\\osgeo_utils\\auxiliary\n",
      "      copying gdal-utils\\osgeo_utils\\auxiliary\\gdal_argparse.py -> build\\lib.win-amd64-cpython-313\\osgeo_utils\\auxiliary\n",
      "      copying gdal-utils\\osgeo_utils\\auxiliary\\numpy_util.py -> build\\lib.win-amd64-cpython-313\\osgeo_utils\\auxiliary\n",
      "      copying gdal-utils\\osgeo_utils\\auxiliary\\osr_util.py -> build\\lib.win-amd64-cpython-313\\osgeo_utils\\auxiliary\n",
      "      copying gdal-utils\\osgeo_utils\\auxiliary\\progress.py -> build\\lib.win-amd64-cpython-313\\osgeo_utils\\auxiliary\n",
      "      copying gdal-utils\\osgeo_utils\\auxiliary\\raster_creation.py -> build\\lib.win-amd64-cpython-313\\osgeo_utils\\auxiliary\n",
      "      copying gdal-utils\\osgeo_utils\\auxiliary\\rectangle.py -> build\\lib.win-amd64-cpython-313\\osgeo_utils\\auxiliary\n",
      "      copying gdal-utils\\osgeo_utils\\auxiliary\\util.py -> build\\lib.win-amd64-cpython-313\\osgeo_utils\\auxiliary\n",
      "      copying gdal-utils\\osgeo_utils\\auxiliary\\__init__.py -> build\\lib.win-amd64-cpython-313\\osgeo_utils\\auxiliary\n",
      "      creating build\\lib.win-amd64-cpython-313\\osgeo_utils\\samples\n",
      "      copying gdal-utils\\osgeo_utils\\samples\\assemblepoly.py -> build\\lib.win-amd64-cpython-313\\osgeo_utils\\samples\n",
      "      copying gdal-utils\\osgeo_utils\\samples\\build_jp2_from_xml.py -> build\\lib.win-amd64-cpython-313\\osgeo_utils\\samples\n",
      "      copying gdal-utils\\osgeo_utils\\samples\\classify.py -> build\\lib.win-amd64-cpython-313\\osgeo_utils\\samples\n",
      "      copying gdal-utils\\osgeo_utils\\samples\\crs2crs2grid.py -> build\\lib.win-amd64-cpython-313\\osgeo_utils\\samples\n",
      "      copying gdal-utils\\osgeo_utils\\samples\\densify.py -> build\\lib.win-amd64-cpython-313\\osgeo_utils\\samples\n",
      "      copying gdal-utils\\osgeo_utils\\samples\\dump_jp2.py -> build\\lib.win-amd64-cpython-313\\osgeo_utils\\samples\n",
      "      copying gdal-utils\\osgeo_utils\\samples\\epsg_tr.py -> build\\lib.win-amd64-cpython-313\\osgeo_utils\\samples\n",
      "      copying gdal-utils\\osgeo_utils\\samples\\esri2wkt.py -> build\\lib.win-amd64-cpython-313\\osgeo_utils\\samples\n",
      "      copying gdal-utils\\osgeo_utils\\samples\\fft.py -> build\\lib.win-amd64-cpython-313\\osgeo_utils\\samples\n",
      "      copying gdal-utils\\osgeo_utils\\samples\\fix_gpkg.py -> build\\lib.win-amd64-cpython-313\\osgeo_utils\\samples\n",
      "      copying gdal-utils\\osgeo_utils\\samples\\gcps2ogr.py -> build\\lib.win-amd64-cpython-313\\osgeo_utils\\samples\n",
      "      copying gdal-utils\\osgeo_utils\\samples\\gcps2vec.py -> build\\lib.win-amd64-cpython-313\\osgeo_utils\\samples\n",
      "      copying gdal-utils\\osgeo_utils\\samples\\gcps2wld.py -> build\\lib.win-amd64-cpython-313\\osgeo_utils\\samples\n",
      "      copying gdal-utils\\osgeo_utils\\samples\\gdal2grd.py -> build\\lib.win-amd64-cpython-313\\osgeo_utils\\samples\n",
      "      copying gdal-utils\\osgeo_utils\\samples\\gdalbuildvrtofvrt.py -> build\\lib.win-amd64-cpython-313\\osgeo_utils\\samples\n",
      "      copying gdal-utils\\osgeo_utils\\samples\\gdalchksum.py -> build\\lib.win-amd64-cpython-313\\osgeo_utils\\samples\n",
      "      copying gdal-utils\\osgeo_utils\\samples\\gdalcopyproj.py -> build\\lib.win-amd64-cpython-313\\osgeo_utils\\samples\n",
      "      copying gdal-utils\\osgeo_utils\\samples\\gdalfilter.py -> build\\lib.win-amd64-cpython-313\\osgeo_utils\\samples\n",
      "      copying gdal-utils\\osgeo_utils\\samples\\gdalident.py -> build\\lib.win-amd64-cpython-313\\osgeo_utils\\samples\n",
      "      copying gdal-utils\\osgeo_utils\\samples\\gdalimport.py -> build\\lib.win-amd64-cpython-313\\osgeo_utils\\samples\n",
      "      copying gdal-utils\\osgeo_utils\\samples\\gdalinfo.py -> build\\lib.win-amd64-cpython-313\\osgeo_utils\\samples\n",
      "      copying gdal-utils\\osgeo_utils\\samples\\gdallocationinfo.py -> build\\lib.win-amd64-cpython-313\\osgeo_utils\\samples\n",
      "      copying gdal-utils\\osgeo_utils\\samples\\gdal_auth.py -> build\\lib.win-amd64-cpython-313\\osgeo_utils\\samples\n",
      "      copying gdal-utils\\osgeo_utils\\samples\\gdal_cp.py -> build\\lib.win-amd64-cpython-313\\osgeo_utils\\samples\n",
      "      copying gdal-utils\\osgeo_utils\\samples\\gdal_create_pdf.py -> build\\lib.win-amd64-cpython-313\\osgeo_utils\\samples\n",
      "      copying gdal-utils\\osgeo_utils\\samples\\gdal_ls.py -> build\\lib.win-amd64-cpython-313\\osgeo_utils\\samples\n",
      "      copying gdal-utils\\osgeo_utils\\samples\\gdal_lut.py -> build\\lib.win-amd64-cpython-313\\osgeo_utils\\samples\n",
      "      copying gdal-utils\\osgeo_utils\\samples\\gdal_mkdir.py -> build\\lib.win-amd64-cpython-313\\osgeo_utils\\samples\n",
      "      copying gdal-utils\\osgeo_utils\\samples\\gdal_remove_towgs84.py -> build\\lib.win-amd64-cpython-313\\osgeo_utils\\samples\n",
      "      copying gdal-utils\\osgeo_utils\\samples\\gdal_rm.py -> build\\lib.win-amd64-cpython-313\\osgeo_utils\\samples\n",
      "      copying gdal-utils\\osgeo_utils\\samples\\gdal_rmdir.py -> build\\lib.win-amd64-cpython-313\\osgeo_utils\\samples\n",
      "      copying gdal-utils\\osgeo_utils\\samples\\gdal_vrtmerge.py -> build\\lib.win-amd64-cpython-313\\osgeo_utils\\samples\n",
      "      copying gdal-utils\\osgeo_utils\\samples\\get_soundg.py -> build\\lib.win-amd64-cpython-313\\osgeo_utils\\samples\n",
      "      copying gdal-utils\\osgeo_utils\\samples\\histrep.py -> build\\lib.win-amd64-cpython-313\\osgeo_utils\\samples\n",
      "      copying gdal-utils\\osgeo_utils\\samples\\hsv_merge.py -> build\\lib.win-amd64-cpython-313\\osgeo_utils\\samples\n",
      "      copying gdal-utils\\osgeo_utils\\samples\\jpeg_in_tiff_extract.py -> build\\lib.win-amd64-cpython-313\\osgeo_utils\\samples\n",
      "      copying gdal-utils\\osgeo_utils\\samples\\load2odbc.py -> build\\lib.win-amd64-cpython-313\\osgeo_utils\\samples\n",
      "      copying gdal-utils\\osgeo_utils\\samples\\loslas2ntv2.py -> build\\lib.win-amd64-cpython-313\\osgeo_utils\\samples\n",
      "      copying gdal-utils\\osgeo_utils\\samples\\magphase.py -> build\\lib.win-amd64-cpython-313\\osgeo_utils\\samples\n",
      "      copying gdal-utils\\osgeo_utils\\samples\\make_fuzzer_friendly_archive.py -> build\\lib.win-amd64-cpython-313\\osgeo_utils\\samples\n",
      "      copying gdal-utils\\osgeo_utils\\samples\\mkgraticule.py -> build\\lib.win-amd64-cpython-313\\osgeo_utils\\samples\n",
      "      copying gdal-utils\\osgeo_utils\\samples\\ogr2vrt.py -> build\\lib.win-amd64-cpython-313\\osgeo_utils\\samples\n",
      "      copying gdal-utils\\osgeo_utils\\samples\\ogrinfo.py -> build\\lib.win-amd64-cpython-313\\osgeo_utils\\samples\n",
      "      copying gdal-utils\\osgeo_utils\\samples\\ogrupdate.py -> build\\lib.win-amd64-cpython-313\\osgeo_utils\\samples\n",
      "      copying gdal-utils\\osgeo_utils\\samples\\ogr_build_junction_table.py -> build\\lib.win-amd64-cpython-313\\osgeo_utils\\samples\n",
      "      copying gdal-utils\\osgeo_utils\\samples\\ogr_dispatch.py -> build\\lib.win-amd64-cpython-313\\osgeo_utils\\samples\n",
      "      copying gdal-utils\\osgeo_utils\\samples\\rel.py -> build\\lib.win-amd64-cpython-313\\osgeo_utils\\samples\n",
      "      copying gdal-utils\\osgeo_utils\\samples\\tigerpoly.py -> build\\lib.win-amd64-cpython-313\\osgeo_utils\\samples\n",
      "      copying gdal-utils\\osgeo_utils\\samples\\tile_extent_from_raster.py -> build\\lib.win-amd64-cpython-313\\osgeo_utils\\samples\n",
      "      copying gdal-utils\\osgeo_utils\\samples\\tolatlong.py -> build\\lib.win-amd64-cpython-313\\osgeo_utils\\samples\n",
      "      copying gdal-utils\\osgeo_utils\\samples\\validate_cloud_optimized_geotiff.py -> build\\lib.win-amd64-cpython-313\\osgeo_utils\\samples\n",
      "      copying gdal-utils\\osgeo_utils\\samples\\validate_geoparquet.py -> build\\lib.win-amd64-cpython-313\\osgeo_utils\\samples\n",
      "      copying gdal-utils\\osgeo_utils\\samples\\validate_gpkg.py -> build\\lib.win-amd64-cpython-313\\osgeo_utils\\samples\n",
      "      copying gdal-utils\\osgeo_utils\\samples\\validate_jp2.py -> build\\lib.win-amd64-cpython-313\\osgeo_utils\\samples\n",
      "      copying gdal-utils\\osgeo_utils\\samples\\val_repl.py -> build\\lib.win-amd64-cpython-313\\osgeo_utils\\samples\n",
      "      copying gdal-utils\\osgeo_utils\\samples\\vec_tr.py -> build\\lib.win-amd64-cpython-313\\osgeo_utils\\samples\n",
      "      copying gdal-utils\\osgeo_utils\\samples\\vec_tr_spat.py -> build\\lib.win-amd64-cpython-313\\osgeo_utils\\samples\n",
      "      copying gdal-utils\\osgeo_utils\\samples\\wcs_virtds_params.py -> build\\lib.win-amd64-cpython-313\\osgeo_utils\\samples\n",
      "      copying gdal-utils\\osgeo_utils\\samples\\__init__.py -> build\\lib.win-amd64-cpython-313\\osgeo_utils\\samples\n",
      "      running egg_info\n",
      "      writing gdal-utils\\GDAL.egg-info\\PKG-INFO\n",
      "      writing dependency_links to gdal-utils\\GDAL.egg-info\\dependency_links.txt\n",
      "      writing entry points to gdal-utils\\GDAL.egg-info\\entry_points.txt\n",
      "      writing requirements to gdal-utils\\GDAL.egg-info\\requires.txt\n",
      "      writing top-level names to gdal-utils\\GDAL.egg-info\\top_level.txt\n",
      "      reading manifest file 'gdal-utils\\GDAL.egg-info\\SOURCES.txt'\n",
      "      writing manifest file 'gdal-utils\\GDAL.egg-info\\SOURCES.txt'\n",
      "      running build_ext\n",
      "      building 'osgeo._gdal' extension\n",
      "      building 'osgeo._gdalconst' extension\n",
      "      building 'osgeo._osr' extension\n",
      "      building 'osgeo._ogr' extension\n",
      "      creating build\\temp.win-amd64-cpython-313\\Release\\extensions\n",
      "      \"C:\\Program Files (x86)\\Microsoft Visual Studio\\2022\\BuildTools\\VC\\Tools\\MSVC\\14.43.34808\\bin\\HostX86\\x64\\cl.exe\" /c /nologo /O2 /W3 /GL /DNDEBUG /MD -IC:\\Users\\user\\anaconda3\\envs\\condaEnv\\include -IC:\\Users\\user\\anaconda3\\envs\\condaEnv\\Include -IC:\\Users\\user\\AppData\\Local\\Temp\\pip-build-env-8m48lgkf\\overlay\\Lib\\site-packages\\numpy\\_core\\include \"-IC:\\Program Files (x86)\\Microsoft Visual Studio\\2022\\BuildTools\\VC\\Tools\\MSVC\\14.43.34808\\include\" \"-IC:\\Program Files (x86)\\Microsoft Visual Studio\\2022\\BuildTools\\VC\\Auxiliary\\VS\\include\" \"-IC:\\Program Files (x86)\\Windows Kits\\10\\include\\10.0.22621.0\\ucrt\" \"-IC:\\Program Files (x86)\\Windows Kits\\10\\\\include\\10.0.22621.0\\\\um\" \"-IC:\\Program Files (x86)\\Windows Kits\\10\\\\include\\10.0.22621.0\\\\shared\" \"-IC:\\Program Files (x86)\\Windows Kits\\10\\\\include\\10.0.22621.0\\\\winrt\" \"-IC:\\Program Files (x86)\\Windows Kits\\10\\\\include\\10.0.22621.0\\\\cppwinrt\" /EHsc /Tpextensions/gdal_wrap.cpp /Fobuild\\temp.win-amd64-cpython-313\\Release\\extensions\\gdal_wrap.obj -DSWIG_PYTHON_SILENT_MEMLEAK\n",
      "      \"C:\\Program Files (x86)\\Microsoft Visual Studio\\2022\\BuildTools\\VC\\Tools\\MSVC\\14.43.34808\\bin\\HostX86\\x64\\cl.exe\" /c /nologo /O2 /W3 /GL /DNDEBUG /MD -IC:\\Users\\user\\anaconda3\\envs\\condaEnv\\include -IC:\\Users\\user\\anaconda3\\envs\\condaEnv\\Include -IC:\\Users\\user\\AppData\\Local\\Temp\\pip-build-env-8m48lgkf\\overlay\\Lib\\site-packages\\numpy\\_core\\include \"-IC:\\Program Files (x86)\\Microsoft Visual Studio\\2022\\BuildTools\\VC\\Tools\\MSVC\\14.43.34808\\include\" \"-IC:\\Program Files (x86)\\Microsoft Visual Studio\\2022\\BuildTools\\VC\\Auxiliary\\VS\\include\" \"-IC:\\Program Files (x86)\\Windows Kits\\10\\include\\10.0.22621.0\\ucrt\" \"-IC:\\Program Files (x86)\\Windows Kits\\10\\\\include\\10.0.22621.0\\\\um\" \"-IC:\\Program Files (x86)\\Windows Kits\\10\\\\include\\10.0.22621.0\\\\shared\" \"-IC:\\Program Files (x86)\\Windows Kits\\10\\\\include\\10.0.22621.0\\\\winrt\" \"-IC:\\Program Files (x86)\\Windows Kits\\10\\\\include\\10.0.22621.0\\\\cppwinrt\" /EHsc /Tpextensions/ogr_wrap.cpp /Fobuild\\temp.win-amd64-cpython-313\\Release\\extensions\\ogr_wrap.obj -DSWIG_PYTHON_SILENT_MEMLEAK\n",
      "      \"C:\\Program Files (x86)\\Microsoft Visual Studio\\2022\\BuildTools\\VC\\Tools\\MSVC\\14.43.34808\\bin\\HostX86\\x64\\cl.exe\" /c /nologo /O2 /W3 /GL /DNDEBUG /MD -IC:\\Users\\user\\anaconda3\\envs\\condaEnv\\include -IC:\\Users\\user\\anaconda3\\envs\\condaEnv\\Include -IC:\\Users\\user\\AppData\\Local\\Temp\\pip-build-env-8m48lgkf\\overlay\\Lib\\site-packages\\numpy\\_core\\include \"-IC:\\Program Files (x86)\\Microsoft Visual Studio\\2022\\BuildTools\\VC\\Tools\\MSVC\\14.43.34808\\include\" \"-IC:\\Program Files (x86)\\Microsoft Visual Studio\\2022\\BuildTools\\VC\\Auxiliary\\VS\\include\" \"-IC:\\Program Files (x86)\\Windows Kits\\10\\include\\10.0.22621.0\\ucrt\" \"-IC:\\Program Files (x86)\\Windows Kits\\10\\\\include\\10.0.22621.0\\\\um\" \"-IC:\\Program Files (x86)\\Windows Kits\\10\\\\include\\10.0.22621.0\\\\shared\" \"-IC:\\Program Files (x86)\\Windows Kits\\10\\\\include\\10.0.22621.0\\\\winrt\" \"-IC:\\Program Files (x86)\\Windows Kits\\10\\\\include\\10.0.22621.0\\\\cppwinrt\" /EHsc /Tpextensions/osr_wrap.cpp /Fobuild\\temp.win-amd64-cpython-313\\Release\\extensions\\osr_wrap.obj -DSWIG_PYTHON_SILENT_MEMLEAK\n",
      "      \"C:\\Program Files (x86)\\Microsoft Visual Studio\\2022\\BuildTools\\VC\\Tools\\MSVC\\14.43.34808\\bin\\HostX86\\x64\\cl.exe\" /c /nologo /O2 /W3 /GL /DNDEBUG /MD -IC:\\Users\\user\\anaconda3\\envs\\condaEnv\\include -IC:\\Users\\user\\anaconda3\\envs\\condaEnv\\Include -IC:\\Users\\user\\AppData\\Local\\Temp\\pip-build-env-8m48lgkf\\overlay\\Lib\\site-packages\\numpy\\_core\\include \"-IC:\\Program Files (x86)\\Microsoft Visual Studio\\2022\\BuildTools\\VC\\Tools\\MSVC\\14.43.34808\\include\" \"-IC:\\Program Files (x86)\\Microsoft Visual Studio\\2022\\BuildTools\\VC\\Auxiliary\\VS\\include\" \"-IC:\\Program Files (x86)\\Windows Kits\\10\\include\\10.0.22621.0\\ucrt\" \"-IC:\\Program Files (x86)\\Windows Kits\\10\\\\include\\10.0.22621.0\\\\um\" \"-IC:\\Program Files (x86)\\Windows Kits\\10\\\\include\\10.0.22621.0\\\\shared\" \"-IC:\\Program Files (x86)\\Windows Kits\\10\\\\include\\10.0.22621.0\\\\winrt\" \"-IC:\\Program Files (x86)\\Windows Kits\\10\\\\include\\10.0.22621.0\\\\cppwinrt\" /Tcextensions/gdalconst_wrap.c /Fobuild\\temp.win-amd64-cpython-313\\Release\\extensions\\gdalconst_wrap.obj -DSWIG_PYTHON_SILENT_MEMLEAK\n",
      "      osr_wrap.cpp\n",
      "      gdal_wrap.cpp\n",
      "      gdalconst_wrap.c\n",
      "      ogr_wrap.cpp\n",
      "      extensions/gdalconst_wrap.c(2671): fatal error C1083: Cannot open include file: 'gdal.h': No such file or directory\n",
      "      building 'osgeo._gnm' extension\n",
      "      \"C:\\Program Files (x86)\\Microsoft Visual Studio\\2022\\BuildTools\\VC\\Tools\\MSVC\\14.43.34808\\bin\\HostX86\\x64\\cl.exe\" /c /nologo /O2 /W3 /GL /DNDEBUG /MD -IC:\\Users\\user\\anaconda3\\envs\\condaEnv\\include -IC:\\Users\\user\\anaconda3\\envs\\condaEnv\\Include -IC:\\Users\\user\\AppData\\Local\\Temp\\pip-build-env-8m48lgkf\\overlay\\Lib\\site-packages\\numpy\\_core\\include \"-IC:\\Program Files (x86)\\Microsoft Visual Studio\\2022\\BuildTools\\VC\\Tools\\MSVC\\14.43.34808\\include\" \"-IC:\\Program Files (x86)\\Microsoft Visual Studio\\2022\\BuildTools\\VC\\Auxiliary\\VS\\include\" \"-IC:\\Program Files (x86)\\Windows Kits\\10\\include\\10.0.22621.0\\ucrt\" \"-IC:\\Program Files (x86)\\Windows Kits\\10\\\\include\\10.0.22621.0\\\\um\" \"-IC:\\Program Files (x86)\\Windows Kits\\10\\\\include\\10.0.22621.0\\\\shared\" \"-IC:\\Program Files (x86)\\Windows Kits\\10\\\\include\\10.0.22621.0\\\\winrt\" \"-IC:\\Program Files (x86)\\Windows Kits\\10\\\\include\\10.0.22621.0\\\\cppwinrt\" /EHsc /Tpextensions/gnm_wrap.cpp /Fobuild\\temp.win-amd64-cpython-313\\Release\\extensions\\gnm_wrap.obj -DSWIG_PYTHON_SILENT_MEMLEAK\n",
      "      gnm_wrap.cpp\n",
      "      extensions/ogr_wrap.cpp(2816): fatal error C1083: Cannot open include file: 'gdal.h': No such file or directory\n",
      "      extensions/osr_wrap.cpp(2847): fatal error C1083: Cannot open include file: 'cpl_string.h': No such file or directory\n",
      "      building 'osgeo._gdal_array' extension\n",
      "      \"C:\\Program Files (x86)\\Microsoft Visual Studio\\2022\\BuildTools\\VC\\Tools\\MSVC\\14.43.34808\\bin\\HostX86\\x64\\cl.exe\" /c /nologo /O2 /W3 /GL /DNDEBUG /MD -IC:\\Users\\user\\anaconda3\\envs\\condaEnv\\include -IC:\\Users\\user\\anaconda3\\envs\\condaEnv\\Include -IC:\\Users\\user\\AppData\\Local\\Temp\\pip-build-env-8m48lgkf\\overlay\\Lib\\site-packages\\numpy\\_core\\include \"-IC:\\Program Files (x86)\\Microsoft Visual Studio\\2022\\BuildTools\\VC\\Tools\\MSVC\\14.43.34808\\include\" \"-IC:\\Program Files (x86)\\Microsoft Visual Studio\\2022\\BuildTools\\VC\\Auxiliary\\VS\\include\" \"-IC:\\Program Files (x86)\\Windows Kits\\10\\include\\10.0.22621.0\\ucrt\" \"-IC:\\Program Files (x86)\\Windows Kits\\10\\\\include\\10.0.22621.0\\\\um\" \"-IC:\\Program Files (x86)\\Windows Kits\\10\\\\include\\10.0.22621.0\\\\shared\" \"-IC:\\Program Files (x86)\\Windows Kits\\10\\\\include\\10.0.22621.0\\\\winrt\" \"-IC:\\Program Files (x86)\\Windows Kits\\10\\\\include\\10.0.22621.0\\\\cppwinrt\" /EHsc /Tpextensions/gdal_array_wrap.cpp /Fobuild\\temp.win-amd64-cpython-313\\Release\\extensions\\gdal_array_wrap.obj -DSWIG_PYTHON_SILENT_MEMLEAK\n",
      "      extensions/gdal_wrap.cpp(2862): fatal error C1083: Cannot open include file: 'cpl_port.h': No such file or directory\n",
      "      gdal_array_wrap.cpp\n",
      "      extensions/gnm_wrap.cpp(2787): fatal error C1083: Cannot open include file: 'gdal.h': No such file or directory\n",
      "      extensions/gdal_array_wrap.cpp(2790): fatal error C1083: Cannot open include file: 'gdal.h': No such file or directory\n",
      "      error: command 'C:\\\\Program Files (x86)\\\\Microsoft Visual Studio\\\\2022\\\\BuildTools\\\\VC\\\\Tools\\\\MSVC\\\\14.43.34808\\\\bin\\\\HostX86\\\\x64\\\\cl.exe' failed with exit code 2\n",
      "      [end of output]\n",
      "  \n",
      "  note: This error originates from a subprocess, and is likely not a problem with pip.\n",
      "  ERROR: Failed building wheel for gdal\n",
      "ERROR: Failed to build installable wheels for some pyproject.toml based projects (gdal)\n"
     ]
    }
   ],
   "source": [
    "!pip install gdal"
   ]
  },
  {
   "cell_type": "code",
   "execution_count": 13,
   "metadata": {},
   "outputs": [
    {
     "ename": "ModuleNotFoundError",
     "evalue": "No module named 'osgeo'",
     "output_type": "error",
     "traceback": [
      "\u001b[1;31m---------------------------------------------------------------------------\u001b[0m",
      "\u001b[1;31mModuleNotFoundError\u001b[0m                       Traceback (most recent call last)",
      "Cell \u001b[1;32mIn[13], line 1\u001b[0m\n\u001b[1;32m----> 1\u001b[0m \u001b[38;5;28;01mfrom\u001b[39;00m \u001b[38;5;21;01mosgeo\u001b[39;00m \u001b[38;5;28;01mimport\u001b[39;00m gdal\n\u001b[0;32m      2\u001b[0m \u001b[38;5;28;01mfrom\u001b[39;00m \u001b[38;5;21;01mosgeo\u001b[39;00m \u001b[38;5;28;01mimport\u001b[39;00m osr\n\u001b[0;32m      3\u001b[0m \u001b[38;5;28;01mfrom\u001b[39;00m \u001b[38;5;21;01mmpl_toolkits\u001b[39;00m\u001b[38;5;21;01m.\u001b[39;00m\u001b[38;5;21;01maxes_grid1\u001b[39;00m \u001b[38;5;28;01mimport\u001b[39;00m make_axes_locatable\n",
      "\u001b[1;31mModuleNotFoundError\u001b[0m: No module named 'osgeo'"
     ]
    }
   ],
   "source": [
    "from osgeo import gdal\n",
    "from osgeo import osr\n",
    "from mpl_toolkits.axes_grid1 import make_axes_locatable\n",
    "from IPython.display import display, HTML\n",
    "from pprint import pprint\n",
    "\n",
    "import numpy as np\n",
    "import os\n",
    "import matplotlib.pyplot as plt\n",
    "import math\n",
    "%matplotlib ipympl  "
   ]
  },
  {
   "cell_type": "code",
   "execution_count": null,
   "metadata": {},
   "outputs": [],
   "source": [
    " "
   ]
  },
  {
   "cell_type": "code",
   "execution_count": null,
   "metadata": {},
   "outputs": [],
   "source": []
  },
  {
   "cell_type": "code",
   "execution_count": null,
   "metadata": {},
   "outputs": [],
   "source": []
  },
  {
   "cell_type": "code",
   "execution_count": null,
   "metadata": {},
   "outputs": [],
   "source": []
  },
  {
   "cell_type": "code",
   "execution_count": null,
   "metadata": {},
   "outputs": [],
   "source": []
  },
  {
   "cell_type": "code",
   "execution_count": null,
   "metadata": {},
   "outputs": [],
   "source": []
  },
  {
   "cell_type": "code",
   "execution_count": null,
   "metadata": {},
   "outputs": [],
   "source": []
  },
  {
   "cell_type": "code",
   "execution_count": null,
   "metadata": {},
   "outputs": [],
   "source": []
  },
  {
   "cell_type": "code",
   "execution_count": null,
   "metadata": {},
   "outputs": [],
   "source": []
  },
  {
   "cell_type": "code",
   "execution_count": null,
   "metadata": {},
   "outputs": [],
   "source": []
  },
  {
   "cell_type": "code",
   "execution_count": null,
   "metadata": {},
   "outputs": [],
   "source": []
  },
  {
   "cell_type": "code",
   "execution_count": null,
   "metadata": {},
   "outputs": [],
   "source": []
  },
  {
   "cell_type": "code",
   "execution_count": null,
   "metadata": {},
   "outputs": [],
   "source": []
  },
  {
   "cell_type": "code",
   "execution_count": null,
   "metadata": {},
   "outputs": [],
   "source": []
  },
  {
   "cell_type": "code",
   "execution_count": null,
   "metadata": {},
   "outputs": [],
   "source": []
  },
  {
   "cell_type": "code",
   "execution_count": null,
   "metadata": {},
   "outputs": [],
   "source": []
  },
  {
   "cell_type": "code",
   "execution_count": null,
   "metadata": {},
   "outputs": [],
   "source": []
  },
  {
   "cell_type": "code",
   "execution_count": null,
   "metadata": {},
   "outputs": [],
   "source": []
  },
  {
   "cell_type": "code",
   "execution_count": null,
   "metadata": {},
   "outputs": [],
   "source": []
  },
  {
   "cell_type": "code",
   "execution_count": null,
   "metadata": {},
   "outputs": [],
   "source": []
  },
  {
   "cell_type": "code",
   "execution_count": null,
   "metadata": {},
   "outputs": [],
   "source": []
  },
  {
   "cell_type": "code",
   "execution_count": null,
   "metadata": {},
   "outputs": [],
   "source": []
  },
  {
   "cell_type": "code",
   "execution_count": null,
   "metadata": {},
   "outputs": [],
   "source": []
  },
  {
   "cell_type": "code",
   "execution_count": null,
   "metadata": {},
   "outputs": [],
   "source": []
  },
  {
   "cell_type": "code",
   "execution_count": null,
   "metadata": {},
   "outputs": [],
   "source": []
  },
  {
   "cell_type": "code",
   "execution_count": null,
   "metadata": {},
   "outputs": [],
   "source": []
  },
  {
   "cell_type": "code",
   "execution_count": null,
   "metadata": {},
   "outputs": [],
   "source": []
  },
  {
   "cell_type": "code",
   "execution_count": null,
   "metadata": {},
   "outputs": [],
   "source": []
  },
  {
   "cell_type": "code",
   "execution_count": null,
   "metadata": {},
   "outputs": [],
   "source": []
  },
  {
   "cell_type": "code",
   "execution_count": null,
   "metadata": {},
   "outputs": [],
   "source": []
  },
  {
   "cell_type": "code",
   "execution_count": null,
   "metadata": {},
   "outputs": [],
   "source": []
  }
 ],
 "metadata": {
  "kernelspec": {
   "display_name": "condaEnv",
   "language": "python",
   "name": "python3"
  },
  "language_info": {
   "codemirror_mode": {
    "name": "ipython",
    "version": 3
   },
   "file_extension": ".py",
   "mimetype": "text/x-python",
   "name": "python",
   "nbconvert_exporter": "python",
   "pygments_lexer": "ipython3",
   "version": "3.13.2"
  }
 },
 "nbformat": 4,
 "nbformat_minor": 2
}
